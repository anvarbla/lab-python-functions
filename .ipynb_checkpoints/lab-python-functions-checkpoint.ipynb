{
 "cells": [
  {
   "cell_type": "markdown",
   "id": "25d7736c-ba17-4aff-b6bb-66eba20fbf4e",
   "metadata": {},
   "source": [
    "# Lab | Functions"
   ]
  },
  {
   "cell_type": "markdown",
   "id": "0c581062-8967-4d93-b06e-62833222f930",
   "metadata": {
    "tags": []
   },
   "source": [
    "## Exercise: Managing Customer Orders with Functions\n",
    "\n",
    "In the previous exercise, you improved the code for managing customer orders by using loops and flow control. Now, let's take it a step further and refactor the code by introducing functions.\n",
    "\n",
    "Follow the steps below to complete the exercise:\n",
    "\n",
    "1. Define a function named `initialize_inventory` that takes `products` as a parameter. Inside the function, implement the code for initializing the inventory dictionary using a loop and user input.\n",
    "\n",
    "2. Define a function named `get_customer_orders` that takes no parameters. Inside the function, implement the code for prompting the user to enter the product names using a loop. The function should return the `customer_orders` set.\n",
    "\n",
    "3. Define a function named `update_inventory` that takes `customer_orders` and `inventory` as parameters. Inside the function, implement the code for updating the inventory dictionary based on the customer orders.\n",
    "\n",
    "4. Define a function named `calculate_order_statistics` that takes `customer_orders` and `products` as parameters. Inside the function, implement the code for calculating the order statistics (total products ordered, and percentage of unique products ordered). The function should return these values.\n",
    "\n",
    "5. Define a function named `print_order_statistics` that takes `order_statistics` as a parameter. Inside the function, implement the code for printing the order statistics.\n",
    "\n",
    "6. Define a function named `print_updated_inventory` that takes `inventory` as a parameter. Inside the function, implement the code for printing the updated inventory.\n",
    "\n",
    "7. Call the functions in the appropriate sequence to execute the program and manage customer orders.\n",
    "\n",
    "Hints for functions:\n",
    "\n",
    "- Consider the input parameters required for each function and their return values.\n",
    "- Utilize function parameters and return values to transfer data between functions.\n",
    "- Test your functions individually to ensure they work correctly.\n",
    "\n",
    "\n"
   ]
  },
  {
   "cell_type": "code",
   "execution_count": 59,
   "id": "92bc9496-1a3d-4b77-9c3d-58a2e1ba4cea",
   "metadata": {},
   "outputs": [
    {
     "name": "stdin",
     "output_type": "stream",
     "text": [
      "Enter de quantity for t-shirt 5\n",
      "Enter de quantity for mug 5\n",
      "Enter de quantity for hat 5\n",
      "Enter de quantity for book 5\n",
      "Enter de quantity for keychain 5\n",
      "What product you want to buy: hat\n",
      "Do you wanna buy another product. Write yes or no no\n"
     ]
    },
    {
     "name": "stdout",
     "output_type": "stream",
     "text": [
      "{'t-shirt': 5, 'mug': 5, 'hat': 4, 'book': 5, 'keychain': 5}\n"
     ]
    }
   ],
   "source": [
    "#Load the objects\n",
    "products=[\"t-shirt\",\"mug\",\"hat\",\"book\",\"keychain\"]\n",
    "inventory={}\n",
    "customer_orders=set()\n",
    "\n",
    "#Functions\n",
    "\n",
    "#Creat the inventory\n",
    "def initialize_inventory (products):\n",
    "    for product in products:\n",
    "        quantity=input(f\"Enter de quantity for {product}\")\n",
    "\n",
    "        inventory [product]=int(quantity)\n",
    "    return inventory    \n",
    "\n",
    "#Get customer order\n",
    "def get_customer_orders ():\n",
    "    product_order=input(\"What product you want to buy:\").lower()\n",
    "    customer_orders.add(product_order)\n",
    "    \n",
    "    buy_another_product=input(\"Do you wanna buy another product. Write yes or no\").lower()\n",
    "    while buy_another_product ==\"yes\":\n",
    "        product_order=input(\"What product you want to buy:\")\n",
    "        customer_orders.add(product_order) \n",
    "        buy_another_product=input(\"Do you wanna buy another product. Write yes or no\").lower()\n",
    "    \n",
    "    return customer_orders\n",
    "\n",
    "#Calculate statistics\n",
    "def calculate_order_statistics (customer_orders, products):\n",
    "    total_products_ordered =len(customer_orders)\n",
    "    available_products=(total_products_ordered)/len(products) * 100\n",
    "    order_status=(total_products_ordered,available_products)\n",
    "    return order_status\n",
    "    print (order_status)\n",
    "\n",
    "\n",
    "#Print statistics\n",
    "#def print_order_statistics(order_status):   \n",
    "    #return(print(order_status))\n",
    "\n",
    "#Update inventory\n",
    "def update_inventory (customer_orders,inventory):\n",
    "    for product in customer_orders:\n",
    "        if product in inventory and inventory[product] > 0:\n",
    "            inventory[product] -= 1\n",
    "        return inventory\n",
    "\n",
    "#Print new inventory\n",
    "def print_updated_inventory (inventory):\n",
    "    return (print (inventory))\n",
    "\n",
    "#Actions\n",
    "initialize_inventory (products)\n",
    "get_customer_orders ()\n",
    "calculate_order_statistics (customer_orders, products)\n",
    "#print_order_statistics(order_status)\n",
    "update_inventory (customer_orders,inventory)\n",
    "print_updated_inventory (inventory)"
   ]
  },
  {
   "cell_type": "code",
   "execution_count": null,
   "id": "8c5e4771-78c0-4d66-b519-27ad8e03dbdc",
   "metadata": {},
   "outputs": [],
   "source": []
  }
 ],
 "metadata": {
  "kernelspec": {
   "display_name": "Python [conda env:base] *",
   "language": "python",
   "name": "conda-base-py"
  },
  "language_info": {
   "codemirror_mode": {
    "name": "ipython",
    "version": 3
   },
   "file_extension": ".py",
   "mimetype": "text/x-python",
   "name": "python",
   "nbconvert_exporter": "python",
   "pygments_lexer": "ipython3",
   "version": "3.12.7"
  }
 },
 "nbformat": 4,
 "nbformat_minor": 5
}
